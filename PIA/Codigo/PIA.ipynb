{
 "cells": [
  {
   "cell_type": "markdown",
   "id": "b399cc16-83b5-4e6b-8475-7e50eeb7954f",
   "metadata": {},
   "source": [
    "# Proyecto Integrador de Aprendizaje\n",
    "## Utilizando los conjuntos de datos, encuentra un modelo de clasificacion con sus parametros utilizando cross validation con el criterio  \n",
    "## ROC_auc que te de un valor mayor de 0.75 en el conjunto de validacion y prueba. \n",
    "## Incluye un reporte donde expongas los resultados y el codigo en el repositorio de git."
   ]
  },
  {
   "cell_type": "markdown",
   "id": "e244cd46-f2a0-4e32-b501-de1b27480449",
   "metadata": {},
   "source": [
    "### Descripción del Conjunto de Datos\n",
    "\n",
    "Este conjunto de datos contiene información sobre películas y varias métricas relacionadas con su contenido y características. La variable `engagement` indica si una persona vio la película.\n",
    "\n",
    "### Variables\n",
    "\n",
    "1. **id**:\n",
    "   - Tipo de dato: Entero.\n",
    "\n",
    "2. **title_word_count**:\n",
    "   - Tipo de dato: Entero.\n",
    "\n",
    "3. **document_entropy**:\n",
    "   - Tipo de dato: Flotante.\n",
    "\n",
    "4. **freshness**:\n",
    "   - Tipo de dato: Entero.\n",
    "\n",
    "5. **easiness**:\n",
    "   - Tipo de dato: Flotante.\n",
    "\n",
    "6. **fraction_stopword_presence**:\n",
    "   - Tipo de dato: Flotante.\n",
    "\n",
    "7. **normalization_rate**:\n",
    "   - Tipo de dato: Flotante.\n",
    "\n",
    "8. **speaker_speed**:\n",
    "   - Tipo de dato: Flotante.\n",
    "\n",
    "9. **silent_period_rate**:\n",
    "   - Tipo de dato: Flotante.\n",
    "\n",
    "10. **engagement**:\n",
    "    - Tipo de dato: Booleano \n",
    "\n"
   ]
  },
  {
   "cell_type": "code",
   "execution_count": 3,
   "id": "8a729611-d0c6-4138-a705-f0ef9cea8ede",
   "metadata": {},
   "outputs": [],
   "source": [
    "import pandas as pd\n",
    "import numpy as np\n",
    "import matplotlib.pyplot as plt\n",
    "import seaborn as sns\n"
   ]
  },
  {
   "cell_type": "code",
   "execution_count": 4,
   "id": "5d909e74-b50c-41f2-a93e-333254a68d42",
   "metadata": {},
   "outputs": [
    {
     "data": {
      "text/html": [
       "<div>\n",
       "<style scoped>\n",
       "    .dataframe tbody tr th:only-of-type {\n",
       "        vertical-align: middle;\n",
       "    }\n",
       "\n",
       "    .dataframe tbody tr th {\n",
       "        vertical-align: top;\n",
       "    }\n",
       "\n",
       "    .dataframe thead th {\n",
       "        text-align: right;\n",
       "    }\n",
       "</style>\n",
       "<table border=\"1\" class=\"dataframe\">\n",
       "  <thead>\n",
       "    <tr style=\"text-align: right;\">\n",
       "      <th></th>\n",
       "      <th>id</th>\n",
       "      <th>title_word_count</th>\n",
       "      <th>document_entropy</th>\n",
       "      <th>freshness</th>\n",
       "      <th>easiness</th>\n",
       "      <th>fraction_stopword_presence</th>\n",
       "      <th>normalization_rate</th>\n",
       "      <th>speaker_speed</th>\n",
       "      <th>silent_period_rate</th>\n",
       "      <th>engagement</th>\n",
       "    </tr>\n",
       "  </thead>\n",
       "  <tbody>\n",
       "    <tr>\n",
       "      <th>0</th>\n",
       "      <td>1</td>\n",
       "      <td>9</td>\n",
       "      <td>7.753995</td>\n",
       "      <td>16310</td>\n",
       "      <td>75.583936</td>\n",
       "      <td>0.553664</td>\n",
       "      <td>0.034049</td>\n",
       "      <td>2.997753</td>\n",
       "      <td>0.0</td>\n",
       "      <td>True</td>\n",
       "    </tr>\n",
       "    <tr>\n",
       "      <th>1</th>\n",
       "      <td>2</td>\n",
       "      <td>6</td>\n",
       "      <td>8.305269</td>\n",
       "      <td>15410</td>\n",
       "      <td>86.870523</td>\n",
       "      <td>0.584498</td>\n",
       "      <td>0.018763</td>\n",
       "      <td>2.635789</td>\n",
       "      <td>0.0</td>\n",
       "      <td>False</td>\n",
       "    </tr>\n",
       "    <tr>\n",
       "      <th>2</th>\n",
       "      <td>3</td>\n",
       "      <td>3</td>\n",
       "      <td>7.965583</td>\n",
       "      <td>15680</td>\n",
       "      <td>81.915968</td>\n",
       "      <td>0.605685</td>\n",
       "      <td>0.030720</td>\n",
       "      <td>2.538095</td>\n",
       "      <td>0.0</td>\n",
       "      <td>False</td>\n",
       "    </tr>\n",
       "    <tr>\n",
       "      <th>3</th>\n",
       "      <td>4</td>\n",
       "      <td>9</td>\n",
       "      <td>8.142877</td>\n",
       "      <td>15610</td>\n",
       "      <td>80.148937</td>\n",
       "      <td>0.593664</td>\n",
       "      <td>0.016873</td>\n",
       "      <td>2.259055</td>\n",
       "      <td>0.0</td>\n",
       "      <td>False</td>\n",
       "    </tr>\n",
       "    <tr>\n",
       "      <th>4</th>\n",
       "      <td>5</td>\n",
       "      <td>9</td>\n",
       "      <td>8.161250</td>\n",
       "      <td>14920</td>\n",
       "      <td>76.907549</td>\n",
       "      <td>0.581637</td>\n",
       "      <td>0.023412</td>\n",
       "      <td>2.420000</td>\n",
       "      <td>0.0</td>\n",
       "      <td>False</td>\n",
       "    </tr>\n",
       "  </tbody>\n",
       "</table>\n",
       "</div>"
      ],
      "text/plain": [
       "   id  title_word_count  document_entropy  freshness   easiness  \\\n",
       "0   1                 9          7.753995      16310  75.583936   \n",
       "1   2                 6          8.305269      15410  86.870523   \n",
       "2   3                 3          7.965583      15680  81.915968   \n",
       "3   4                 9          8.142877      15610  80.148937   \n",
       "4   5                 9          8.161250      14920  76.907549   \n",
       "\n",
       "   fraction_stopword_presence  normalization_rate  speaker_speed  \\\n",
       "0                    0.553664            0.034049       2.997753   \n",
       "1                    0.584498            0.018763       2.635789   \n",
       "2                    0.605685            0.030720       2.538095   \n",
       "3                    0.593664            0.016873       2.259055   \n",
       "4                    0.581637            0.023412       2.420000   \n",
       "\n",
       "   silent_period_rate  engagement  \n",
       "0                 0.0        True  \n",
       "1                 0.0       False  \n",
       "2                 0.0       False  \n",
       "3                 0.0       False  \n",
       "4                 0.0       False  "
      ]
     },
     "execution_count": 4,
     "metadata": {},
     "output_type": "execute_result"
    }
   ],
   "source": [
    "train_data = pd.read_csv(\"train.csv\")\n",
    "train_data.head()"
   ]
  },
  {
   "cell_type": "code",
   "execution_count": 3,
   "id": "0aa5d12b-3f0c-4ba8-a798-0c4d7d085d3c",
   "metadata": {},
   "outputs": [
    {
     "name": "stdout",
     "output_type": "stream",
     "text": [
      "<class 'pandas.core.frame.DataFrame'>\n",
      "RangeIndex: 9239 entries, 0 to 9238\n",
      "Data columns (total 10 columns):\n",
      " #   Column                      Non-Null Count  Dtype  \n",
      "---  ------                      --------------  -----  \n",
      " 0   id                          9239 non-null   int64  \n",
      " 1   title_word_count            9239 non-null   int64  \n",
      " 2   document_entropy            9239 non-null   float64\n",
      " 3   freshness                   9239 non-null   int64  \n",
      " 4   easiness                    9239 non-null   float64\n",
      " 5   fraction_stopword_presence  9239 non-null   float64\n",
      " 6   normalization_rate          9239 non-null   float64\n",
      " 7   speaker_speed               9239 non-null   float64\n",
      " 8   silent_period_rate          9239 non-null   float64\n",
      " 9   engagement                  9239 non-null   bool   \n",
      "dtypes: bool(1), float64(6), int64(3)\n",
      "memory usage: 658.8 KB\n"
     ]
    }
   ],
   "source": [
    "train_data.info()"
   ]
  },
  {
   "cell_type": "markdown",
   "id": "c16b421a-fa14-4926-a96b-32fb13de89d7",
   "metadata": {},
   "source": [
    "### Comprobamos que el conjuntos de datos no tengan datos vacios."
   ]
  },
  {
   "cell_type": "code",
   "execution_count": 4,
   "id": "570ac797-9da6-4539-a4be-298ceacb9985",
   "metadata": {},
   "outputs": [
    {
     "data": {
      "text/plain": [
       "id                            0\n",
       "title_word_count              0\n",
       "document_entropy              0\n",
       "freshness                     0\n",
       "easiness                      0\n",
       "fraction_stopword_presence    0\n",
       "normalization_rate            0\n",
       "speaker_speed                 0\n",
       "silent_period_rate            0\n",
       "engagement                    0\n",
       "dtype: int64"
      ]
     },
     "execution_count": 4,
     "metadata": {},
     "output_type": "execute_result"
    }
   ],
   "source": [
    "# Contar el numero de datos nulos\n",
    "train_data[train_data.isna().any(axis='columns')].count()"
   ]
  },
  {
   "cell_type": "code",
   "execution_count": 5,
   "id": "7621dd96-22cd-4f80-bfb8-cdc1ae01abce",
   "metadata": {},
   "outputs": [
    {
     "data": {
      "text/html": [
       "<div>\n",
       "<style scoped>\n",
       "    .dataframe tbody tr th:only-of-type {\n",
       "        vertical-align: middle;\n",
       "    }\n",
       "\n",
       "    .dataframe tbody tr th {\n",
       "        vertical-align: top;\n",
       "    }\n",
       "\n",
       "    .dataframe thead th {\n",
       "        text-align: right;\n",
       "    }\n",
       "</style>\n",
       "<table border=\"1\" class=\"dataframe\">\n",
       "  <thead>\n",
       "    <tr style=\"text-align: right;\">\n",
       "      <th></th>\n",
       "      <th>id</th>\n",
       "      <th>title_word_count</th>\n",
       "      <th>document_entropy</th>\n",
       "      <th>freshness</th>\n",
       "      <th>easiness</th>\n",
       "      <th>fraction_stopword_presence</th>\n",
       "      <th>normalization_rate</th>\n",
       "      <th>speaker_speed</th>\n",
       "      <th>silent_period_rate</th>\n",
       "    </tr>\n",
       "  </thead>\n",
       "  <tbody>\n",
       "    <tr>\n",
       "      <th>count</th>\n",
       "      <td>9239.000000</td>\n",
       "      <td>9239.000000</td>\n",
       "      <td>9239.000000</td>\n",
       "      <td>9239.000000</td>\n",
       "      <td>9239.000000</td>\n",
       "      <td>9239.000000</td>\n",
       "      <td>9239.000000</td>\n",
       "      <td>9239.000000</td>\n",
       "      <td>9239.000000</td>\n",
       "    </tr>\n",
       "    <tr>\n",
       "      <th>mean</th>\n",
       "      <td>4620.000000</td>\n",
       "      <td>7.701050</td>\n",
       "      <td>7.792685</td>\n",
       "      <td>14808.587509</td>\n",
       "      <td>84.756029</td>\n",
       "      <td>0.612214</td>\n",
       "      <td>0.021354</td>\n",
       "      <td>2.413320</td>\n",
       "      <td>0.146606</td>\n",
       "    </tr>\n",
       "    <tr>\n",
       "      <th>std</th>\n",
       "      <td>2667.213902</td>\n",
       "      <td>3.785066</td>\n",
       "      <td>0.697710</td>\n",
       "      <td>1208.953646</td>\n",
       "      <td>8.303489</td>\n",
       "      <td>0.051872</td>\n",
       "      <td>0.009545</td>\n",
       "      <td>1.588296</td>\n",
       "      <td>0.172030</td>\n",
       "    </tr>\n",
       "    <tr>\n",
       "      <th>min</th>\n",
       "      <td>1.000000</td>\n",
       "      <td>1.000000</td>\n",
       "      <td>0.000000</td>\n",
       "      <td>10830.000000</td>\n",
       "      <td>28.210966</td>\n",
       "      <td>0.000000</td>\n",
       "      <td>0.000000</td>\n",
       "      <td>0.000302</td>\n",
       "      <td>0.000000</td>\n",
       "    </tr>\n",
       "    <tr>\n",
       "      <th>25%</th>\n",
       "      <td>2310.500000</td>\n",
       "      <td>5.000000</td>\n",
       "      <td>7.594235</td>\n",
       "      <td>14070.000000</td>\n",
       "      <td>80.415060</td>\n",
       "      <td>0.589632</td>\n",
       "      <td>0.014974</td>\n",
       "      <td>1.976727</td>\n",
       "      <td>0.000000</td>\n",
       "    </tr>\n",
       "    <tr>\n",
       "      <th>50%</th>\n",
       "      <td>4620.000000</td>\n",
       "      <td>7.000000</td>\n",
       "      <td>7.875103</td>\n",
       "      <td>14750.000000</td>\n",
       "      <td>84.482122</td>\n",
       "      <td>0.613127</td>\n",
       "      <td>0.019843</td>\n",
       "      <td>2.267133</td>\n",
       "      <td>0.104915</td>\n",
       "    </tr>\n",
       "    <tr>\n",
       "      <th>75%</th>\n",
       "      <td>6929.500000</td>\n",
       "      <td>10.000000</td>\n",
       "      <td>8.164166</td>\n",
       "      <td>15600.000000</td>\n",
       "      <td>88.388711</td>\n",
       "      <td>0.634585</td>\n",
       "      <td>0.026288</td>\n",
       "      <td>2.539207</td>\n",
       "      <td>0.250927</td>\n",
       "    </tr>\n",
       "    <tr>\n",
       "      <th>max</th>\n",
       "      <td>9239.000000</td>\n",
       "      <td>33.000000</td>\n",
       "      <td>9.278573</td>\n",
       "      <td>17430.000000</td>\n",
       "      <td>122.032000</td>\n",
       "      <td>1.000000</td>\n",
       "      <td>0.101990</td>\n",
       "      <td>50.850000</td>\n",
       "      <td>1.168239</td>\n",
       "    </tr>\n",
       "  </tbody>\n",
       "</table>\n",
       "</div>"
      ],
      "text/plain": [
       "                id  title_word_count  document_entropy     freshness  \\\n",
       "count  9239.000000       9239.000000       9239.000000   9239.000000   \n",
       "mean   4620.000000          7.701050          7.792685  14808.587509   \n",
       "std    2667.213902          3.785066          0.697710   1208.953646   \n",
       "min       1.000000          1.000000          0.000000  10830.000000   \n",
       "25%    2310.500000          5.000000          7.594235  14070.000000   \n",
       "50%    4620.000000          7.000000          7.875103  14750.000000   \n",
       "75%    6929.500000         10.000000          8.164166  15600.000000   \n",
       "max    9239.000000         33.000000          9.278573  17430.000000   \n",
       "\n",
       "          easiness  fraction_stopword_presence  normalization_rate  \\\n",
       "count  9239.000000                 9239.000000         9239.000000   \n",
       "mean     84.756029                    0.612214            0.021354   \n",
       "std       8.303489                    0.051872            0.009545   \n",
       "min      28.210966                    0.000000            0.000000   \n",
       "25%      80.415060                    0.589632            0.014974   \n",
       "50%      84.482122                    0.613127            0.019843   \n",
       "75%      88.388711                    0.634585            0.026288   \n",
       "max     122.032000                    1.000000            0.101990   \n",
       "\n",
       "       speaker_speed  silent_period_rate  \n",
       "count    9239.000000         9239.000000  \n",
       "mean        2.413320            0.146606  \n",
       "std         1.588296            0.172030  \n",
       "min         0.000302            0.000000  \n",
       "25%         1.976727            0.000000  \n",
       "50%         2.267133            0.104915  \n",
       "75%         2.539207            0.250927  \n",
       "max        50.850000            1.168239  "
      ]
     },
     "execution_count": 5,
     "metadata": {},
     "output_type": "execute_result"
    }
   ],
   "source": [
    "train_data.describe()"
   ]
  },
  {
   "cell_type": "code",
   "execution_count": 6,
   "id": "b1e1d1b8-6c57-4157-b43e-9fa6da110699",
   "metadata": {},
   "outputs": [
    {
     "data": {
      "image/png": "[encoded data removed]",
      "text/plain": [
       "<Figure size 640x480 with 1 Axes>"
      ]
     },
     "metadata": {},
     "output_type": "display_data"
    }
   ],
   "source": [
    "# visulizar la distribucion de los datos booleanos de la variable engagement\n",
    "train_data[\"engagement\"].value_counts().plot(kind=\"bar\",\n",
    "                                           color=['red', 'blue']);\n"
   ]
  },
  {
   "cell_type": "code",
   "execution_count": 7,
   "id": "8866e627-bf6a-42f7-8034-b74616d8645a",
   "metadata": {},
   "outputs": [
    {
     "data": {
      "text/plain": [
       "engagement\n",
       "False    8342\n",
       "True      897\n",
       "Name: count, dtype: int64"
      ]
     },
     "execution_count": 7,
     "metadata": {},
     "output_type": "execute_result"
    }
   ],
   "source": [
    "train_data[\"engagement\"].value_counts()"
   ]
  },
  {
   "cell_type": "markdown",
   "id": "201c9476-5234-4aa8-a572-8ca546592ad4",
   "metadata": {},
   "source": [
    "### De los datos podemos aprender que la mayoria de las personas no han visto las peliculas."
   ]
  },
  {
   "cell_type": "code",
   "execution_count": 8,
   "id": "37ede856-893e-4a91-a768-8b3ca27f149b",
   "metadata": {},
   "outputs": [],
   "source": [
    "import torch\n",
    "import torch.nn as nn\n",
    "import torch.optim as optim\n",
    "from sklearn.model_selection import train_test_split, StratifiedKFold\n",
    "from sklearn.preprocessing import StandardScaler\n",
    "from sklearn.metrics import roc_auc_score, classification_report, confusion_matrix\n",
    "import joblib\n"
   ]
  },
  {
   "cell_type": "code",
   "execution_count": 9,
   "id": "24baecef-4c8f-4b21-bb0f-6b88d598fad0",
   "metadata": {},
   "outputs": [],
   "source": [
    "# Asignar características y etiquetas\n",
    "X = train_data.drop(columns=['engagement'])\n",
    "y = train_data['engagement']"
   ]
  },
  {
   "cell_type": "code",
   "execution_count": 10,
   "id": "f63f4cec-0d04-4b62-aa4d-15a8e291dc25",
   "metadata": {},
   "outputs": [],
   "source": [
    "# División de los datos en conjuntos de entrenamiento y prueba\n",
    "X_train, X_test, y_train, y_test = train_test_split(X, y, test_size=0.2, random_state=42)\n"
   ]
  },
  {
   "cell_type": "code",
   "execution_count": 11,
   "id": "7b76076d-49c7-4fd4-aa6c-80f1f4863b17",
   "metadata": {},
   "outputs": [],
   "source": [
    "# Normalizar los datos\n",
    "scaler = StandardScaler()\n",
    "X_train = scaler.fit_transform(X_train)\n",
    "X_test = scaler.transform(X_test)"
   ]
  },
  {
   "cell_type": "code",
   "execution_count": 12,
   "id": "4ceff8bb-2da4-4fd1-a490-5d19f1398a37",
   "metadata": {},
   "outputs": [
    {
     "data": {
      "text/plain": [
       "array([[ 0.12135517, -0.71506764,  0.89231581, ..., -0.82144258,\n",
       "        -0.21607589,  0.98189391],\n",
       "       [-1.18125315, -0.18642899, -0.42136957, ..., -1.06533369,\n",
       "         0.39699606, -0.849056  ],\n",
       "       [ 0.33789364, -0.45074832, -0.13432288, ...,  1.24195122,\n",
       "        -0.14395427,  0.42666111],\n",
       "       ...,\n",
       "       [ 0.29098322, -1.77234495, -0.04686395, ..., -1.11863044,\n",
       "        -0.30552372,  0.84931092],\n",
       "       [-1.40905011,  0.07789034,  0.26246359, ...,  0.34777309,\n",
       "         0.14099098, -0.849056  ],\n",
       "       [ 0.99651582, -0.45074832, -0.17760988, ..., -0.05439541,\n",
       "         0.50648945, -0.849056  ]])"
      ]
     },
     "execution_count": 12,
     "metadata": {},
     "output_type": "execute_result"
    }
   ],
   "source": [
    "X_train"
   ]
  },
  {
   "cell_type": "code",
   "execution_count": 13,
   "id": "e046900a-9c46-4418-a570-2a4b3738e6ca",
   "metadata": {},
   "outputs": [],
   "source": [
    "# Convertir los datos a tensores\n",
    "X_train = torch.tensor(X_train, dtype=torch.float32)\n",
    "y_train = torch.tensor(y_train.values, dtype=torch.float32).view(-1, 1)\n",
    "X_test = torch.tensor(X_test, dtype=torch.float32)\n",
    "y_test = torch.tensor(y_test.values, dtype=torch.float32).view(-1, 1)"
   ]
  },
  {
   "cell_type": "code",
   "execution_count": 14,
   "id": "d8f56af1-1129-4858-bd38-00a1cca90f70",
   "metadata": {},
   "outputs": [
    {
     "data": {
      "text/plain": [
       "tensor([[ 0.1214, -0.7151,  0.8923,  ..., -0.8214, -0.2161,  0.9819],\n",
       "        [-1.1813, -0.1864, -0.4214,  ..., -1.0653,  0.3970, -0.8491],\n",
       "        [ 0.3379, -0.4507, -0.1343,  ...,  1.2420, -0.1440,  0.4267],\n",
       "        ...,\n",
       "        [ 0.2910, -1.7723, -0.0469,  ..., -1.1186, -0.3055,  0.8493],\n",
       "        [-1.4091,  0.0779,  0.2625,  ...,  0.3478,  0.1410, -0.8491],\n",
       "        [ 0.9965, -0.4507, -0.1776,  ..., -0.0544,  0.5065, -0.8491]])"
      ]
     },
     "execution_count": 14,
     "metadata": {},
     "output_type": "execute_result"
    }
   ],
   "source": [
    "X_train"
   ]
  },
  {
   "cell_type": "code",
   "execution_count": 14,
   "id": "566cfb71-4dc2-4b5c-a618-9e849f6310da",
   "metadata": {},
   "outputs": [],
   "source": [
    "# Definir el modelo\n",
    "class NeuralNet(nn.Module):\n",
    "    def __init__(self, input_size):\n",
    "        super(NeuralNet, self).__init__()\n",
    "        self.fc1 = nn.Linear(input_size, 50)\n",
    "        self.fc2 = nn.Linear(50, 1)\n",
    "        self.sigmoid = nn.Sigmoid()\n",
    "\n",
    "    def forward(self, x):\n",
    "        x = torch.relu(self.fc1(x))\n",
    "        x = self.sigmoid(self.fc2(x))\n",
    "        return x\n"
   ]
  },
  {
   "cell_type": "code",
   "execution_count": 15,
   "id": "76d4bf1d-c5c4-4e38-b676-018c487105e7",
   "metadata": {},
   "outputs": [],
   "source": [
    "# Inicializar el modelo\n",
    "input_size = X_train.shape[1]\n",
    "num_epochs = 100\n",
    "batch_size = 64\n",
    "learning_rate = 0.001"
   ]
  },
  {
   "cell_type": "code",
   "execution_count": 16,
   "id": "e580a75d-289b-4732-bf52-55e3551d5b68",
   "metadata": {},
   "outputs": [],
   "source": [
    "def train_model(model, criterion, optimizer, X_train, y_train):\n",
    "    train_dataset = torch.utils.data.TensorDataset(X_train, y_train)\n",
    "    train_loader = torch.utils.data.DataLoader(dataset=train_dataset, batch_size=batch_size, shuffle=True)\n",
    "\n",
    "    for epoch in range(num_epochs):\n",
    "        model.train()\n",
    "        for X_batch, y_batch in train_loader:\n",
    "            optimizer.zero_grad()\n",
    "            outputs = model(X_batch).squeeze()\n",
    "            loss = criterion(outputs, y_batch.squeeze())\n",
    "            loss.backward()\n",
    "            optimizer.step()"
   ]
  },
  {
   "cell_type": "code",
   "execution_count": 17,
   "id": "643f5dd5-e3e6-43e1-972c-20048849aa77",
   "metadata": {},
   "outputs": [],
   "source": [
    "# Cross-validation\n",
    "skf = StratifiedKFold(n_splits=5, shuffle=True, random_state=42)\n",
    "cv_roc_auc_scores = []"
   ]
  },
  {
   "cell_type": "code",
   "execution_count": 18,
   "id": "360b4b74-726a-41db-b0e0-143558dd758d",
   "metadata": {},
   "outputs": [],
   "source": [
    "for train_index, val_index in skf.split(X_train, y_train):\n",
    "    X_train_fold, X_val_fold = X_train[train_index], X_train[val_index]\n",
    "    y_train_fold, y_val_fold = y_train[train_index], y_train[val_index]\n",
    "\n",
    "    model = NeuralNet(input_size)\n",
    "    criterion = nn.BCELoss()\n",
    "    optimizer = optim.Adam(model.parameters(), lr=learning_rate)\n",
    "\n",
    "    train_model(model, criterion, optimizer, X_train_fold, y_train_fold)\n",
    "\n",
    "    model.eval()\n",
    "    with torch.no_grad():\n",
    "        y_val_pred = model(X_val_fold).squeeze()\n",
    "        auc = roc_auc_score(y_val_fold, y_val_pred)\n",
    "        cv_roc_auc_scores.append(auc)\n"
   ]
  },
  {
   "cell_type": "code",
   "execution_count": 19,
   "id": "c4328ebc-466b-4ed8-b05d-4353f9457588",
   "metadata": {},
   "outputs": [
    {
     "name": "stdout",
     "output_type": "stream",
     "text": [
      "Cross-Validation AUC Scores: [0.8765398051112336, 0.883391953597433, 0.8736219095808136, 0.9060224608169815, 0.8582774958217697]\n",
      "Mean Cross-Validation AUC: 0.8795707249856463\n"
     ]
    }
   ],
   "source": [
    "\n",
    "mean_cv_roc_auc = np.mean(cv_roc_auc_scores)\n",
    "print(f\"Cross-Validation AUC Scores: {cv_roc_auc_scores}\")\n",
    "print(f\"Mean Cross-Validation AUC: {mean_cv_roc_auc}\")"
   ]
  },
  {
   "cell_type": "code",
   "execution_count": 20,
   "id": "ac987164-ffdf-4090-a266-e15fb87ce40a",
   "metadata": {},
   "outputs": [],
   "source": [
    "# Evaluar el modelo en el conjunto de prueba\n",
    "model.eval()\n",
    "with torch.no_grad():\n",
    "    y_test_pred = model(X_test).squeeze()\n",
    "    test_roc_auc = roc_auc_score(y_test, y_test_pred)\n",
    "    y_test_pred_class = (y_test_pred >= 0.5).float()\n",
    "    test_accuracy = (y_test_pred_class == y_test.squeeze()).float().mean()\n",
    "    classification_rep = classification_report(y_test, y_test_pred_class)\n",
    "    conf_matrix = confusion_matrix(y_test, y_test_pred_class)"
   ]
  },
  {
   "cell_type": "code",
   "execution_count": 21,
   "id": "b9de9acb-6483-4578-8c20-a114edbecbf7",
   "metadata": {},
   "outputs": [
    {
     "name": "stdout",
     "output_type": "stream",
     "text": [
      "Test ROC AUC Score: 0.8983345036820974\n",
      "Test Accuracy: 0.9383116960525513\n",
      "Classification Report:\n",
      "              precision    recall  f1-score   support\n",
      "\n",
      "         0.0       0.95      0.98      0.97      1683\n",
      "         1.0       0.72      0.50      0.59       165\n",
      "\n",
      "    accuracy                           0.94      1848\n",
      "   macro avg       0.84      0.74      0.78      1848\n",
      "weighted avg       0.93      0.94      0.93      1848\n",
      "\n",
      "Confusion Matrix:\n",
      "[[1651   32]\n",
      " [  82   83]]\n"
     ]
    }
   ],
   "source": [
    "print(f\"Test ROC AUC Score: {test_roc_auc}\")\n",
    "print(f\"Test Accuracy: {test_accuracy}\")\n",
    "print(\"Classification Report:\")\n",
    "print(classification_rep)\n",
    "print(\"Confusion Matrix:\")\n",
    "print(conf_matrix)"
   ]
  },
  {
   "cell_type": "code",
   "execution_count": 24,
   "id": "ee30db83-3a13-42ca-92b2-6a3b25f3eb46",
   "metadata": {},
   "outputs": [],
   "source": [
    "# Guardar los parámetros del modelo\n",
    "torch.save(model.state_dict(), 'modelo_parametros.pth')"
   ]
  },
  {
   "cell_type": "code",
   "execution_count": 25,
   "id": "f731f488-0c0f-43e4-941d-ce45e3d0741d",
   "metadata": {},
   "outputs": [],
   "source": [
    "\n",
    "# Guardar el modelo completo \n",
    "torch.save(model, 'modelo_completo.pth')"
   ]
  }
 ],
 "metadata": {
  "kernelspec": {
   "display_name": "Python 3 (ipykernel)",
   "language": "python",
   "name": "python3"
  },
  "language_info": {
   "codemirror_mode": {
    "name": "ipython",
    "version": 3
   },
   "file_extension": ".py",
   "mimetype": "text/x-python",
   "name": "python",
   "nbconvert_exporter": "python",
   "pygments_lexer": "ipython3",
   "version": "3.11.4"
  }
 },
 "nbformat": 4,
 "nbformat_minor": 5
}
