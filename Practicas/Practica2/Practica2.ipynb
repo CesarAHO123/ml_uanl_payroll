{
 "cells": [
  {
   "cell_type": "markdown",
   "id": "a562f012-b09c-4605-aaf3-737710114be6",
   "metadata": {},
   "source": [
    "# Tarea 2 Modelo de Regresion\n",
    "## Escoge de entre los diferentes modelos de regresion (lineal, polinomial, knn, decision tree) + regularizacion o normalizacion donde aplique, para crear un modelo con un conjunto de datos de tu eleccion  y utiliza cross validation con un criterio a tu eleccion (R2, RMSE, MSE)  para escoger el mejor modelo para tu criterio.\n",
    "### El dataset Escogido para la realización de esta practica es el dataset de enfermedades del corazón de el repositorio de UCI. "
   ]
  },
  {
   "cell_type": "code",
   "execution_count": 1,
   "id": "27e91e9d-d144-4641-9a9b-a36131abc5d9",
   "metadata": {},
   "outputs": [
    {
     "name": "stdout",
     "output_type": "stream",
     "text": [
      "        name     role         type demographic  \\\n",
      "0        age  Feature      Integer         Age   \n",
      "1        sex  Feature  Categorical         Sex   \n",
      "2         cp  Feature  Categorical        None   \n",
      "3   trestbps  Feature      Integer        None   \n",
      "4       chol  Feature      Integer        None   \n",
      "5        fbs  Feature  Categorical        None   \n",
      "6    restecg  Feature  Categorical        None   \n",
      "7    thalach  Feature      Integer        None   \n",
      "8      exang  Feature  Categorical        None   \n",
      "9    oldpeak  Feature      Integer        None   \n",
      "10     slope  Feature  Categorical        None   \n",
      "11        ca  Feature      Integer        None   \n",
      "12      thal  Feature  Categorical        None   \n",
      "13       num   Target      Integer        None   \n",
      "\n",
      "                                          description  units missing_values  \n",
      "0                                                None  years             no  \n",
      "1                                                None   None             no  \n",
      "2                                                None   None             no  \n",
      "3   resting blood pressure (on admission to the ho...  mm Hg             no  \n",
      "4                                   serum cholestoral  mg/dl             no  \n",
      "5                     fasting blood sugar > 120 mg/dl   None             no  \n",
      "6                                                None   None             no  \n",
      "7                         maximum heart rate achieved   None             no  \n",
      "8                             exercise induced angina   None             no  \n",
      "9   ST depression induced by exercise relative to ...   None             no  \n",
      "10                                               None   None             no  \n",
      "11  number of major vessels (0-3) colored by flour...   None            yes  \n",
      "12                                               None   None            yes  \n",
      "13                         diagnosis of heart disease   None             no  \n"
     ]
    }
   ],
   "source": [
    "#Traemos las librerias necesarias:\n",
    "import pandas as pd\n",
    "from sklearn.model_selection import train_test_split, cross_val_score\n",
    "from sklearn.preprocessing import StandardScaler, PolynomialFeatures\n",
    "from sklearn.linear_model import LinearRegression\n",
    "from sklearn.neighbors import KNeighborsRegressor\n",
    "from sklearn.tree import DecisionTreeRegressor\n",
    "from sklearn.metrics import mean_squared_error, r2_score\n",
    "from sklearn.ensemble import RandomForestRegressor\n",
    "import numpy as np\n",
    "import matplotlib.pyplot as plt\n",
    "#Traemos la fuente de los datos\n",
    "from ucimlrepo import fetch_ucirepo \n",
    "  \n",
    "#Obtenemos el conjunto de datos.\n",
    "heart_disease = fetch_ucirepo(id=45) \n",
    "  \n",
    "# Obtenemos los datos del repositorio.\n",
    "X = heart_disease.data.features \n",
    "y = heart_disease.data.targets \n",
    "  \n",
    "  \n",
    "# Información de cada una de las variables\n",
    "print(heart_disease.variables) \n",
    "\n"
   ]
  },
  {
   "cell_type": "code",
   "execution_count": 2,
   "id": "1a2d3fb4-bfe5-453d-9ca2-626112769b1c",
   "metadata": {},
   "outputs": [
    {
     "name": "stdout",
     "output_type": "stream",
     "text": [
      "   age  sex  cp  trestbps  chol  fbs  restecg  thalach  exang  oldpeak  slope  \\\n",
      "0   63    1   1       145   233    1        2      150      0      2.3      3   \n",
      "1   67    1   4       160   286    0        2      108      1      1.5      2   \n",
      "2   67    1   4       120   229    0        2      129      1      2.6      2   \n",
      "3   37    1   3       130   250    0        0      187      0      3.5      3   \n",
      "4   41    0   2       130   204    0        2      172      0      1.4      1   \n",
      "\n",
      "    ca  thal  \n",
      "0  0.0   6.0  \n",
      "1  3.0   3.0  \n",
      "2  2.0   7.0  \n",
      "3  0.0   3.0  \n",
      "4  0.0   3.0  \n",
      "   num\n",
      "0    0\n",
      "1    2\n",
      "2    1\n",
      "3    0\n",
      "4    0\n"
     ]
    }
   ],
   "source": [
    "# Mostramos las primeras columnas\n",
    "print(X.head())\n",
    "print(y.head())"
   ]
  },
  {
   "cell_type": "markdown",
   "id": "f8a4e49d-7b80-47fc-835c-89346476e72c",
   "metadata": {},
   "source": [
    "### La variable con la que buscaremos predecir es \"thalach\" que hace referencia al mayor pulso cardiaco"
   ]
  },
  {
   "cell_type": "code",
   "execution_count": 3,
   "id": "bf2132b4-bbb7-40cd-9ad2-71d0ecdd36ac",
   "metadata": {},
   "outputs": [],
   "source": [
    "target_variable = 'thal'  \n",
    "# Extraemos la variable objetivo y la eliminamos de las características\n",
    "y = X[target_variable]\n",
    "X = X.drop(columns=[target_variable])"
   ]
  },
  {
   "cell_type": "code",
   "execution_count": 4,
   "id": "7dd1d590-d00b-4882-8323-08035adbf8b0",
   "metadata": {},
   "outputs": [
    {
     "name": "stdout",
     "output_type": "stream",
     "text": [
      "Total de datos faltantes en el conjunto de características: 4\n"
     ]
    }
   ],
   "source": [
    "# Mostrar cantidad de datos faltantes antes de eliminarlos\n",
    "total_missing = X.isnull().sum().sum()\n",
    "print(f\"Total de datos faltantes en el conjunto de características: {total_missing}\")\n",
    "    "
   ]
  },
  {
   "cell_type": "code",
   "execution_count": 5,
   "id": "f913d9e5-4032-4bd0-a9f4-43bcb9d3f640",
   "metadata": {},
   "outputs": [],
   "source": [
    " # Eliminamos filas con valores faltantes\n",
    "data = pd.concat([X, y], axis=1)  # Unimos X e y para eliminar filas faltantes\n",
    "data = data.dropna()  # Eliminamos filas con valores faltantes\n",
    "\n",
    "# Separamos X e y nuevamente\n",
    "X = data.drop(columns=[target_variable])\n",
    "y = data[target_variable]"
   ]
  },
  {
   "cell_type": "code",
   "execution_count": 6,
   "id": "31eb5550-56d7-4210-8dea-79fb79aa5f15",
   "metadata": {},
   "outputs": [
    {
     "name": "stdout",
     "output_type": "stream",
     "text": [
      "     age  sex  cp  trestbps  chol  fbs  restecg  thalach  exang  oldpeak  \\\n",
      "277   39    0   3       138   220    0        0      152      0      0.0   \n",
      "262   60    0   1       150   240    0        0      171      0      0.9   \n",
      "30    69    0   1       140   239    0        0      151      0      1.8   \n",
      "22    58    1   2       120   284    0        2      160      0      1.8   \n",
      "281   47    1   3       130   253    0        0      179      0      0.0   \n",
      "..   ...  ...  ..       ...   ...  ...      ...      ...    ...      ...   \n",
      "190   50    1   3       129   196    0        0      163      0      0.0   \n",
      "71    67    1   4       125   254    1        0      163      0      0.2   \n",
      "107   57    1   3       128   229    0        2      150      0      0.4   \n",
      "274   59    1   1       134   204    0        0      162      0      0.8   \n",
      "103   71    0   3       110   265    1        2      130      0      0.0   \n",
      "\n",
      "     slope   ca  \n",
      "277      2  0.0  \n",
      "262      1  0.0  \n",
      "30       1  2.0  \n",
      "22       2  0.0  \n",
      "281      1  0.0  \n",
      "..     ...  ...  \n",
      "190      1  0.0  \n",
      "71       2  2.0  \n",
      "107      2  1.0  \n",
      "274      1  2.0  \n",
      "103      1  1.0  \n",
      "\n",
      "[237 rows x 12 columns]\n",
      "     age  sex  cp  trestbps  chol  fbs  restecg  thalach  exang  oldpeak  \\\n",
      "169   45    0   2       112   160    0        0      138      0      0.0   \n",
      "214   52    1   4       112   230    0        0      160      0      0.0   \n",
      "63    54    0   3       135   304    1        0      170      0      0.0   \n",
      "155   70    1   4       130   322    0        2      109      0      2.4   \n",
      "5     56    1   2       120   236    0        0      178      0      0.8   \n",
      "77    51    0   3       140   308    0        2      142      0      1.5   \n",
      "185   63    0   2       140   195    0        0      179      0      0.0   \n",
      "159   68    1   3       118   277    0        0      151      0      1.0   \n",
      "9     53    1   4       140   203    1        2      155      1      3.1   \n",
      "140   59    1   2       140   221    0        0      164      1      0.0   \n",
      "290   67    1   3       152   212    0        2      150      0      0.8   \n",
      "78    48    1   2       130   245    0        2      180      0      0.2   \n",
      "93    44    0   3       108   141    0        0      175      0      0.6   \n",
      "102   57    0   4       128   303    0        2      159      0      0.0   \n",
      "42    71    0   2       160   302    0        0      162      0      0.4   \n",
      "225   34    0   2       118   210    0        0      192      0      0.7   \n",
      "288   56    1   2       130   221    0        2      163      0      0.0   \n",
      "33    59    1   4       135   234    0        0      161      0      0.5   \n",
      "267   59    1   3       126   218    1        0      134      0      2.2   \n",
      "149   60    0   3       102   318    0        0      160      0      0.0   \n",
      "248   52    1   4       125   212    0        0      168      0      1.0   \n",
      "45    58    1   3       112   230    0        2      165      0      2.5   \n",
      "60    51    0   4       130   305    0        0      142      1      1.2   \n",
      "46    51    1   3       110   175    0        0      123      0      0.6   \n",
      "282   55    0   4       128   205    0        1      130      1      2.0   \n",
      "240   41    1   2       110   235    0        0      153      0      0.0   \n",
      "177   56    1   4       132   184    0        2      105      1      2.1   \n",
      "237   46    1   4       120   249    0        2      144      0      0.8   \n",
      "17    54    1   4       140   239    0        0      160      0      1.2   \n",
      "283   35    1   2       122   192    0        0      174      0      0.0   \n",
      "112   52    1   1       118   186    0        2      190      0      0.0   \n",
      "222   39    0   3        94   199    0        0      179      0      0.0   \n",
      "24    60    1   4       130   206    0        2      132      1      2.4   \n",
      "82    39    1   3       140   321    0        2      182      0      0.0   \n",
      "7     57    0   4       120   354    0        0      163      1      0.6   \n",
      "75    65    0   3       160   360    0        2      151      0      0.8   \n",
      "109   39    1   4       118   219    0        0      140      0      1.2   \n",
      "84    52    1   2       120   325    0        0      172      0      0.2   \n",
      "91    62    0   4       160   164    0        2      145      0      6.2   \n",
      "73    65    1   4       110   248    0        2      158      0      0.6   \n",
      "117   35    0   4       138   183    0        0      182      0      1.4   \n",
      "127   54    1   4       110   239    0        0      126      1      2.8   \n",
      "236   56    1   4       130   283    1        2      103      1      1.6   \n",
      "59    51    1   1       125   213    0        2      125      1      1.4   \n",
      "198   50    0   2       120   244    0        0      162      0      1.1   \n",
      "211   38    1   1       120   231    0        0      182      1      3.8   \n",
      "98    52    1   2       134   201    0        0      158      0      0.8   \n",
      "187   66    1   2       160   246    0        0      120      1      0.0   \n",
      "178   43    1   3       130   315    0        0      162      0      1.9   \n",
      "125   45    0   2       130   234    0        2      175      0      0.6   \n",
      "94    63    0   3       135   252    0        2      172      0      0.0   \n",
      "299   68    1   4       144   193    1        0      141      0      3.4   \n",
      "184   60    0   4       158   305    0        2      161      0      0.0   \n",
      "279   58    0   4       130   197    0        0      131      0      0.6   \n",
      "195   67    1   4       100   299    0        2      125      1      0.9   \n",
      "297   57    0   4       140   241    0        0      123      1      0.2   \n",
      "25    50    0   3       120   219    0        0      158      0      1.6   \n",
      "227   67    0   3       152   277    0        0      172      0      0.0   \n",
      "6     62    0   4       140   268    0        2      160      0      3.6   \n",
      "183   59    1   1       178   270    0        2      145      0      4.2   \n",
      "\n",
      "     slope   ca  \n",
      "169      2  0.0  \n",
      "214      1  1.0  \n",
      "63       1  0.0  \n",
      "155      2  3.0  \n",
      "5        1  0.0  \n",
      "77       1  1.0  \n",
      "185      1  2.0  \n",
      "159      1  1.0  \n",
      "9        3  0.0  \n",
      "140      1  0.0  \n",
      "290      2  0.0  \n",
      "78       2  0.0  \n",
      "93       2  0.0  \n",
      "102      1  1.0  \n",
      "42       1  2.0  \n",
      "225      1  0.0  \n",
      "288      1  0.0  \n",
      "33       2  0.0  \n",
      "267      2  1.0  \n",
      "149      1  1.0  \n",
      "248      1  2.0  \n",
      "45       2  1.0  \n",
      "60       2  0.0  \n",
      "46       1  0.0  \n",
      "282      2  1.0  \n",
      "240      1  0.0  \n",
      "177      2  1.0  \n",
      "237      1  0.0  \n",
      "17       1  0.0  \n",
      "283      1  0.0  \n",
      "112      2  0.0  \n",
      "222      1  0.0  \n",
      "24       2  2.0  \n",
      "82       1  0.0  \n",
      "7        1  0.0  \n",
      "75       1  0.0  \n",
      "109      2  0.0  \n",
      "84       1  0.0  \n",
      "91       3  3.0  \n",
      "73       1  2.0  \n",
      "117      1  0.0  \n",
      "127      2  1.0  \n",
      "236      3  0.0  \n",
      "59       1  1.0  \n",
      "198      1  0.0  \n",
      "211      2  0.0  \n",
      "98       1  1.0  \n",
      "187      2  3.0  \n",
      "178      1  1.0  \n",
      "125      2  0.0  \n",
      "94       1  0.0  \n",
      "299      2  2.0  \n",
      "184      1  0.0  \n",
      "279      2  0.0  \n",
      "195      2  2.0  \n",
      "297      2  0.0  \n",
      "25       2  0.0  \n",
      "227      1  1.0  \n",
      "6        3  2.0  \n",
      "183      3  0.0  \n"
     ]
    }
   ],
   "source": [
    "# División de los datos en conjuntos de entrenamiento y prueba\n",
    "X_train, X_test, y_train, y_test = train_test_split(X, y, test_size=0.2, random_state=42)\n",
    "\n",
    "# Normalización de los datos\n",
    "scaler = StandardScaler()\n",
    "X_train_scaled = scaler.fit_transform(X_train)\n",
    "X_test_scaled = scaler.transform(X_test)\n",
    "print(X_train)\n",
    "print(X_test)"
   ]
  },
  {
   "cell_type": "code",
   "execution_count": 7,
   "id": "f5494b1a-70ba-4925-aa87-5084c576e6f3",
   "metadata": {},
   "outputs": [],
   "source": [
    "# Inicialización de los modelos\n",
    "models = {\n",
    "        \"Linear Regression\": LinearRegression(),\n",
    "        \"Polynomial Regression\": PolynomialFeatures(degree=2),\n",
    "        \"KNN\": KNeighborsRegressor(n_neighbors=5),\n",
    "        \"Decision Tree\": DecisionTreeRegressor(random_state=42),\n",
    "        \"Random Forest\": RandomForestRegressor(n_estimators=100, random_state=42)\n",
    "    }"
   ]
  },
  {
   "cell_type": "code",
   "execution_count": 8,
   "id": "fd3b49d9-20fb-4f6e-981f-de583a38f8e9",
   "metadata": {},
   "outputs": [],
   "source": [
    "# Función para evaluar los modelos\n",
    "def evaluate_model(model, X_train, y_train, X_test, y_test):\n",
    "    model.fit(X_train, y_train)  # Entrenamos el modelo\n",
    "    y_pred = model.predict(X_test)  # Realizamos predicciones sobre el conjunto de prueba\n",
    "    mse = mean_squared_error(y_test, y_pred)  # Calculamos el error cuadrático medio\n",
    "    r2 = r2_score(y_test, y_pred)  # Calculamos el coeficiente de determinación R2\n",
    "    return y_pred, mse, r2"
   ]
  },
  {
   "cell_type": "code",
   "execution_count": 9,
   "id": "7c129d68-db23-40be-b6ca-8e311036d2d8",
   "metadata": {},
   "outputs": [],
   "source": [
    "# Evaluación y comparación de los modelos usando validación cruzada\n",
    "results = {}\n",
    "predictions = {}\n",
    "for name, model in models.items():\n",
    "    if name == \"Polynomial Regression\":\n",
    "        poly = PolynomialFeatures(degree=2)\n",
    "        X_train_poly = poly.fit_transform(X_train_scaled)\n",
    "        X_test_poly = poly.transform(X_test_scaled)\n",
    "        lin_reg = LinearRegression()\n",
    "        lin_reg.fit(X_train_poly, y_train)\n",
    "        y_pred, mse, r2 = evaluate_model(lin_reg, X_train_poly, y_train, X_test_poly, y_test)\n",
    "    else:\n",
    "        y_pred, mse, r2 = evaluate_model(model, X_train_scaled, y_train, X_test_scaled, y_test)\n",
    "    results[name] = {\"MSE\": mse, \"R2\": r2}\n",
    "    predictions[name] = y_pred"
   ]
  },
  {
   "cell_type": "code",
   "execution_count": 10,
   "id": "2032158b-3824-4833-b2ae-7d871a182c64",
   "metadata": {},
   "outputs": [
    {
     "name": "stdout",
     "output_type": "stream",
     "text": [
      "                            MSE        R2\n",
      "Linear Regression      2.411453  0.314225\n",
      "Polynomial Regression  3.452059  0.018294\n",
      "KNN                    2.617333  0.255676\n",
      "Decision Tree          4.966667 -0.412434\n",
      "Random Forest          2.509752  0.286270\n"
     ]
    }
   ],
   "source": [
    "# Mostrar los resultados\n",
    "results_df = pd.DataFrame(results).T\n",
    "print(results_df)\n",
    "    \n",
    "    "
   ]
  },
  {
   "cell_type": "code",
   "execution_count": 11,
   "id": "e86bcec6-d62d-400b-a126-b307ed973684",
   "metadata": {},
   "outputs": [
    {
     "name": "stdout",
     "output_type": "stream",
     "text": [
      "El mejor modelo es: Linear Regression con R2: 0.3142245340144657\n"
     ]
    }
   ],
   "source": [
    "# Seleccionar el mejor modelo basado en el R2\n",
    "best_model_name = results_df[\"R2\"].idxmax()\n",
    "best_model = models[best_model_name]\n",
    "best_predictions = predictions[best_model_name]\n",
    "print(f\"El mejor modelo es: {best_model_name} con R2: {results_df.loc[best_model_name, 'R2']}\")"
   ]
  },
  {
   "cell_type": "code",
   "execution_count": null,
   "id": "ffc74928-d9e0-43f1-95a1-562ce7dbd5c2",
   "metadata": {},
   "outputs": [],
   "source": []
  }
 ],
 "metadata": {
  "kernelspec": {
   "display_name": "Python 3 (ipykernel)",
   "language": "python",
   "name": "python3"
  },
  "language_info": {
   "codemirror_mode": {
    "name": "ipython",
    "version": 3
   },
   "file_extension": ".py",
   "mimetype": "text/x-python",
   "name": "python",
   "nbconvert_exporter": "python",
   "pygments_lexer": "ipython3",
   "version": "3.11.4"
  }
 },
 "nbformat": 4,
 "nbformat_minor": 5
}
