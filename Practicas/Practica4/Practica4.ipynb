{
 "cells": [
  {
   "cell_type": "markdown",
   "id": "0dad700b-4e5b-413c-b0f1-5165eeb14cce",
   "metadata": {},
   "source": [
    "# Tarea 4 Agrupamiento\n",
    "## Crea un modelo de agrupamiento con k-means para tu modelo de clasificacion y comparalo con tu modelo de clasificacion.90 con k = numero de classes100 usas elbow metod para encontrar el valor de k\n",
    "### El dataset Escogido para la realización de esta practica es el dataset de enfermedades del corazón de el repositorio de UCI. "
   ]
  },
  {
   "cell_type": "code",
   "execution_count": 1,
   "id": "3519e0ef-23c7-44bc-8a15-1baa35d5c638",
   "metadata": {},
   "outputs": [],
   "source": [
    "from ucimlrepo import fetch_ucirepo\n",
    "import pandas as pd\n",
    "from sklearn.cluster import KMeans\n",
    "from sklearn.preprocessing import StandardScaler\n",
    "from sklearn.model_selection import train_test_split\n",
    "import matplotlib.pyplot as plt\n",
    "import numpy as np"
   ]
  },
  {
   "cell_type": "code",
   "execution_count": 3,
   "id": "09443e04-8493-4865-9352-d57a557882e5",
   "metadata": {},
   "outputs": [
    {
     "name": "stdout",
     "output_type": "stream",
     "text": [
      "        name     role         type demographic  \\\n",
      "0        age  Feature      Integer         Age   \n",
      "1        sex  Feature  Categorical         Sex   \n",
      "2         cp  Feature  Categorical        None   \n",
      "3   trestbps  Feature      Integer        None   \n",
      "4       chol  Feature      Integer        None   \n",
      "5        fbs  Feature  Categorical        None   \n",
      "6    restecg  Feature  Categorical        None   \n",
      "7    thalach  Feature      Integer        None   \n",
      "8      exang  Feature  Categorical        None   \n",
      "9    oldpeak  Feature      Integer        None   \n",
      "10     slope  Feature  Categorical        None   \n",
      "11        ca  Feature      Integer        None   \n",
      "12      thal  Feature  Categorical        None   \n",
      "13       num   Target      Integer        None   \n",
      "\n",
      "                                          description  units missing_values  \n",
      "0                                                None  years             no  \n",
      "1                                                None   None             no  \n",
      "2                                                None   None             no  \n",
      "3   resting blood pressure (on admission to the ho...  mm Hg             no  \n",
      "4                                   serum cholestoral  mg/dl             no  \n",
      "5                     fasting blood sugar > 120 mg/dl   None             no  \n",
      "6                                                None   None             no  \n",
      "7                         maximum heart rate achieved   None             no  \n",
      "8                             exercise induced angina   None             no  \n",
      "9   ST depression induced by exercise relative to ...   None             no  \n",
      "10                                               None   None             no  \n",
      "11  number of major vessels (0-3) colored by flour...   None            yes  \n",
      "12                                               None   None            yes  \n",
      "13                         diagnosis of heart disease   None             no  \n"
     ]
    }
   ],
   "source": [
    "heart_disease = fetch_ucirepo(id=45) \n",
    "print(heart_disease.variables)"
   ]
  },
  {
   "cell_type": "code",
   "execution_count": 4,
   "id": "6b0a5317-78b8-4d5c-904e-9a87931ac571",
   "metadata": {},
   "outputs": [],
   "source": [
    "# Obtenemos los datos del repositorio.\n",
    "X = heart_disease.data.features \n",
    "y = heart_disease.data.targets "
   ]
  },
  {
   "cell_type": "code",
   "execution_count": 5,
   "id": "a46234e3-e9f0-4948-8e4b-c01a4e82e9e8",
   "metadata": {},
   "outputs": [],
   "source": [
    "# Dividir el DataFrame en características (X) y variable objetivo (y)\n",
    "X = X[['sex', 'cp', 'fbs', 'exang']] \n"
   ]
  },
  {
   "cell_type": "code",
   "execution_count": 6,
   "id": "786f03f1-0d22-4a84-b21d-9e00280dbaa7",
   "metadata": {},
   "outputs": [],
   "source": [
    " # Eliminamos filas con valores faltantes\n",
    "data = pd.concat([X, y], axis=1)  # Unimos X e y para eliminar filas faltantes\n",
    "data = data.dropna()  # Eliminamos filas con valores faltantes\n",
    "\n",
    "# Separamos X e y nuevamente\n",
    "X = data.drop(columns=[\"num\"])\n",
    "y = data[\"num\"]"
   ]
  },
  {
   "cell_type": "code",
   "execution_count": 7,
   "id": "f7e21180-0e11-48ee-accd-1bc3f40c3444",
   "metadata": {},
   "outputs": [],
   "source": [
    "X = pd.get_dummies(X, drop_first=True)\n"
   ]
  },
  {
   "cell_type": "code",
   "execution_count": 8,
   "id": "00b0e029-e30a-47b9-950b-9da455806b8e",
   "metadata": {},
   "outputs": [
    {
     "name": "stdout",
     "output_type": "stream",
     "text": [
      "0      0\n",
      "1      2\n",
      "2      1\n",
      "3      0\n",
      "4      0\n",
      "      ..\n",
      "298    1\n",
      "299    2\n",
      "300    3\n",
      "301    1\n",
      "302    0\n",
      "Name: num, Length: 303, dtype: int64\n"
     ]
    }
   ],
   "source": [
    "print(y)"
   ]
  },
  {
   "cell_type": "code",
   "execution_count": 9,
   "id": "e32a0101-0217-4729-93c9-85d469fc6518",
   "metadata": {},
   "outputs": [
    {
     "name": "stdout",
     "output_type": "stream",
     "text": [
      "     sex  cp  fbs  exang\n",
      "0      1   1    1      0\n",
      "1      1   4    0      1\n",
      "2      1   4    0      1\n",
      "3      1   3    0      0\n",
      "4      0   2    0      0\n",
      "..   ...  ..  ...    ...\n",
      "298    1   1    0      0\n",
      "299    1   4    1      0\n",
      "300    1   4    0      1\n",
      "301    0   2    0      0\n",
      "302    1   3    0      0\n",
      "\n",
      "[303 rows x 4 columns]\n"
     ]
    }
   ],
   "source": [
    "print(X)"
   ]
  },
  {
   "cell_type": "code",
   "execution_count": 10,
   "id": "b25f3b0d-a4ba-4cb4-a060-a2445651a55c",
   "metadata": {},
   "outputs": [],
   "source": [
    "# Dividir en conjunto de entrenamiento y prueba\n",
    "X_train, X_test, y_train, y_test = train_test_split(X, y, test_size=0.2, random_state=42)\n"
   ]
  },
  {
   "cell_type": "code",
   "execution_count": 11,
   "id": "a014937e-290d-4383-bea4-08111b31e5f2",
   "metadata": {},
   "outputs": [],
   "source": [
    "scaler = StandardScaler()\n",
    "X_train_scaled = scaler.fit_transform(X_train)\n",
    "X_test_scaled = scaler.transform(X_test)\n"
   ]
  },
  {
   "cell_type": "code",
   "execution_count": 12,
   "id": "491e29fb-3460-433f-90dd-49018dbe8509",
   "metadata": {},
   "outputs": [],
   "source": [
    "# Definir el rango de posibles valores de k\n",
    "k_range = range(1, 11)  # Probar valores de k de 1 a 10\n",
    "sse = []\n"
   ]
  },
  {
   "cell_type": "code",
   "execution_count": 13,
   "id": "454a22bc-1a14-4738-ad2c-db30b69d63cc",
   "metadata": {},
   "outputs": [],
   "source": [
    "# Calcular SSE para cada valor de k\n",
    "for k in k_range:\n",
    "    kmeans = KMeans(n_clusters=k, random_state=42)\n",
    "    kmeans.fit(X_train_scaled)\n",
    "    sse.append(kmeans.inertia_)  # SSE para el k actual"
   ]
  },
  {
   "cell_type": "code",
   "execution_count": 14,
   "id": "0215d444-a440-4d43-97fb-ddaa5c251510",
   "metadata": {},
   "outputs": [
    {
     "data": {
      "image/png": "[encoded data removed]",
      "text/plain": [
       "<Figure size 1000x600 with 1 Axes>"
      ]
     },
     "metadata": {},
     "output_type": "display_data"
    }
   ],
   "source": [
    "# Crear la gráfica de codo\n",
    "plt.figure(figsize=(10, 6))\n",
    "plt.plot(k_range, sse, marker='o')\n",
    "plt.title('Gráfica de Codo')\n",
    "plt.xlabel('Número de Clústeres (k)')\n",
    "plt.ylabel('Suma de Errores Cuadráticos Dentro de los Clústeres (SSE)')\n",
    "plt.xticks(k_range)\n",
    "plt.grid(True)\n",
    "plt.show()"
   ]
  },
  {
   "cell_type": "markdown",
   "id": "dc8eeb56-462a-4829-85d8-611b6cb015a9",
   "metadata": {},
   "source": [
    "#### Con esta grafica podemos ver que la SSE disminuye cerca del 4. Por lo tanto el numero optimo de clusters es 4"
   ]
  },
  {
   "cell_type": "code",
   "execution_count": 15,
   "id": "0391b69e-210e-4de0-8b1d-244dfce3b650",
   "metadata": {},
   "outputs": [],
   "source": [
    "# Aplicar K-Means con el número de clases como valor inicial de k\n",
    "kmeans = KMeans(n_clusters=4, random_state=42)\n",
    "clusters_train = kmeans.fit_predict(X_train_scaled)\n",
    "clusters_test = kmeans.predict(X_test_scaled)\n"
   ]
  },
  {
   "cell_type": "code",
   "execution_count": 16,
   "id": "152fcbd2-1258-4ea9-82ca-036873d375bd",
   "metadata": {},
   "outputs": [],
   "source": [
    "# Comparar los clústeres con las etiquetas verdaderas\n",
    "from sklearn.metrics import confusion_matrix"
   ]
  },
  {
   "cell_type": "code",
   "execution_count": 17,
   "id": "981f1afb-63c3-4702-8224-1ab2f3945442",
   "metadata": {},
   "outputs": [
    {
     "name": "stdout",
     "output_type": "stream",
     "text": [
      "Matriz de Contingencia (Test):\n",
      "col_0   0  1  2  3\n",
      "num               \n",
      "0      15  8  1  5\n",
      "1       5  1  3  3\n",
      "2       3  0  4  2\n",
      "3       3  0  3  1\n",
      "4       2  0  1  1\n"
     ]
    }
   ],
   "source": [
    "# Crear una matriz de contingencia para el conjunto de prueba\n",
    "contingency_matrix = pd.crosstab(y_test, clusters_test)\n",
    "print('Matriz de Contingencia (Test):')\n",
    "print(contingency_matrix)"
   ]
  },
  {
   "cell_type": "code",
   "execution_count": 18,
   "id": "e27eabcf-92b7-453c-8cf0-8280aab2a297",
   "metadata": {},
   "outputs": [
    {
     "name": "stdout",
     "output_type": "stream",
     "text": [
      "Pureza (Precisión): 0.47540983606557374\n"
     ]
    }
   ],
   "source": [
    "# Calcular la pureza\n",
    "total_points = np.sum(contingency_matrix.values)\n",
    "pureza = np.sum(np.amax(contingency_matrix.values, axis=1)) / total_points\n",
    "print('Pureza (Precisión):', pureza)"
   ]
  },
  {
   "cell_type": "markdown",
   "id": "9b358d1b-86ec-4bb0-8a00-1c998f7efdb9",
   "metadata": {},
   "source": [
    "### Podemos ver que este modelo cuenta con una precisión del .47540983, Una precisión menor que la que tenia el modelo de Agrupamiento."
   ]
  }
 ],
 "metadata": {
  "kernelspec": {
   "display_name": "Python 3 (ipykernel)",
   "language": "python",
   "name": "python3"
  },
  "language_info": {
   "codemirror_mode": {
    "name": "ipython",
    "version": 3
   },
   "file_extension": ".py",
   "mimetype": "text/x-python",
   "name": "python",
   "nbconvert_exporter": "python",
   "pygments_lexer": "ipython3",
   "version": "3.11.4"
  }
 },
 "nbformat": 4,
 "nbformat_minor": 5
}
